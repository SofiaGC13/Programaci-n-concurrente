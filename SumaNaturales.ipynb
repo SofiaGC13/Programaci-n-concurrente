{
 "cells": [
  {
   "cell_type": "markdown",
   "metadata": {},
   "source": [
    "# Suma de los n primeros números naturales\n",
    "\n",
    "### 174291 - Sofía Graham Coello"
   ]
  },
  {
   "cell_type": "code",
   "execution_count": 151,
   "metadata": {},
   "outputs": [],
   "source": [
    "import time"
   ]
  },
  {
   "cell_type": "code",
   "execution_count": 152,
   "metadata": {},
   "outputs": [],
   "source": [
    "# Función que calcula la suma de los primeros n números naturales usando un ciclo\n",
    "def suma_ciclo(n):\n",
    "    suma = 0\n",
    "    for i in range(1, n+1):\n",
    "        suma += i\n",
    "    return suma"
   ]
  },
  {
   "cell_type": "code",
   "execution_count": 153,
   "metadata": {},
   "outputs": [],
   "source": [
    "# Función que calcula la suma de los primeros n números naturales usando la fórmula general\n",
    "def suma_formula(n):\n",
    "    return n * (n + 1) // 2"
   ]
  },
  {
   "cell_type": "code",
   "execution_count": 154,
   "metadata": {},
   "outputs": [
    {
     "name": "stdout",
     "output_type": "stream",
     "text": [
      "Tiempo promedio de suma_ciclo: 0.0000026333 segundos\n"
     ]
    }
   ],
   "source": [
    "# Definir n y número de repeticiones\n",
    "n = 100\n",
    "repeticiones = 10000\n",
    "\n",
    "# Medir el tiempo promedio de ejecución de suma_ciclo\n",
    "tiempos_ciclo = []\n",
    "for _ in range(repeticiones):\n",
    "    inicio_ciclo = time.time()\n",
    "    suma_ciclo(n)\n",
    "    fin_ciclo = time.time()\n",
    "    tiempos_ciclo.append(fin_ciclo - inicio_ciclo)\n",
    "\n",
    "tiempo_promedio_ciclo = sum(tiempos_ciclo) / repeticiones\n",
    "print(f\"Tiempo promedio de suma_ciclo: {tiempo_promedio_ciclo:.10f} segundos\")"
   ]
  },
  {
   "cell_type": "code",
   "execution_count": 155,
   "metadata": {},
   "outputs": [
    {
     "name": "stdout",
     "output_type": "stream",
     "text": [
      "Tiempo promedio de suma_formula: 0.0000000000 segundos\n"
     ]
    }
   ],
   "source": [
    "# Medir el tiempo promedio de ejecución de suma_formula\n",
    "tiempos_formula = []\n",
    "for _ in range(repeticiones):\n",
    "    inicio_formula = time.time()\n",
    "    suma_formula(n)\n",
    "    fin_formula = time.time()\n",
    "    tiempos_formula.append(fin_formula - inicio_formula)\n",
    "\n",
    "tiempo_promedio_formula = sum(tiempos_formula) / repeticiones\n",
    "print(f\"Tiempo promedio de suma_formula: {tiempo_promedio_formula:.10f} segundos\")"
   ]
  },
  {
   "cell_type": "code",
   "execution_count": 156,
   "metadata": {},
   "outputs": [
    {
     "name": "stdout",
     "output_type": "stream",
     "text": [
      "El cálculo con la fórmula fue más rápido en promedio.\n"
     ]
    }
   ],
   "source": [
    "# Comparación de tiempos promedio\n",
    "if tiempo_promedio_ciclo < tiempo_promedio_formula:\n",
    "    print(\"El cálculo con ciclo fue más rápido en promedio.\")\n",
    "else:\n",
    "    print(\"El cálculo con la fórmula fue más rápido en promedio.\")"
   ]
  }
 ],
 "metadata": {
  "kernelspec": {
   "display_name": "Python 3",
   "language": "python",
   "name": "python3"
  },
  "language_info": {
   "codemirror_mode": {
    "name": "ipython",
    "version": 3
   },
   "file_extension": ".py",
   "mimetype": "text/x-python",
   "name": "python",
   "nbconvert_exporter": "python",
   "pygments_lexer": "ipython3",
   "version": "3.12.5"
  }
 },
 "nbformat": 4,
 "nbformat_minor": 2
}
