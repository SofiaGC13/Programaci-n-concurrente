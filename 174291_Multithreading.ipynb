{
 "cells": [
  {
   "cell_type": "markdown",
   "id": "615989b6",
   "metadata": {},
   "source": [
    "# Multithreading\n"
   ]
  },
  {
   "cell_type": "code",
   "execution_count": 1,
   "id": "a9006155",
   "metadata": {},
   "outputs": [],
   "source": [
    "import threading\n",
    "import numpy as np"
   ]
  },
  {
   "cell_type": "code",
   "execution_count": 2,
   "id": "84cafb53",
   "metadata": {},
   "outputs": [],
   "source": [
    "a=15\n",
    "b=5"
   ]
  },
  {
   "cell_type": "code",
   "execution_count": 3,
   "id": "18379399",
   "metadata": {},
   "outputs": [],
   "source": [
    "def logn(a,b) :\n",
    "    print(\"Logaritmo natural:\", np. log(a+b))\n",
    "def va(a,b):\n",
    "    print (\"Valor absoluto:\", abs (a-b))\n",
    "def exp (a,b) :\n",
    "    print (\"La potencia:\", (a**b))"
   ]
  },
  {
   "cell_type": "code",
   "execution_count": 6,
   "id": "6ea9b55c",
   "metadata": {},
   "outputs": [
    {
     "name": "stdout",
     "output_type": "stream",
     "text": [
      "Logaritmo natural: 2.995732273553991\n",
      "Valor absoluto: 10\n",
      "La potencia: 759375\n"
     ]
    }
   ],
   "source": [
    "t1 = threading.Thread(target=logn, args=(a,b))\n",
    "t2 = threading.Thread(target=va, args=(a,b))\n",
    "t3 = threading.Thread(target=exp, args=(a,b))\n",
    "\n",
    "t1.start()\n",
    "t2.start()\n",
    "t3.start()\n",
    "\n",
    "t1.join()\n",
    "t2.join()\n",
    "t3.join()"
   ]
  },
  {
   "cell_type": "code",
   "execution_count": 5,
   "id": "9bd06d7f",
   "metadata": {},
   "outputs": [
    {
     "name": "stdout",
     "output_type": "stream",
     "text": [
      "Logaritmo natural:Valor absoluto: 10\n",
      " 2.995732273553991\n",
      "La potencia: 759375\n"
     ]
    }
   ],
   "source": [
    "t1 = threading.Thread(target=logn, args=(a,b))\n",
    "t2 = threading.Thread(target=va, args=(a,b))\n",
    "t3 = threading.Thread(target=exp, args=(a,b))\n",
    "\n",
    "t1.start()\n",
    "t2.start()\n",
    "t3.start()\n",
    "\n",
    "t1.join(timeout=.1)\n",
    "t2.join(timeout=.01)\n",
    "t3.join(timeout=1)"
   ]
  },
  {
   "cell_type": "markdown",
   "id": "34bb870c",
   "metadata": {},
   "source": [
    "El timeout es el tiempo que el programa principal espera a que un hilo termine su tarea antes de seguir.\n",
    "\n",
    "Lo que creo que esta pasando es que los hilos están haciendo sus tareas, pero como la impresión de los resultados depende de cuándo terminen, si el timeout no es suficiente, los hilos pueden estar imprimiendo sus resultados mientras otros también intentan imprimir los suyos, entonces dependiendo de la dificultadad de lo que estan haciendo mis hilos, en este caso las diferentes operaciones, si no espero lo sufieciente pasa esto de que los resultados se imprimen mezclados."
   ]
  }
 ],
 "metadata": {
  "kernelspec": {
   "display_name": "Python 3 (ipykernel)",
   "language": "python",
   "name": "python3"
  },
  "language_info": {
   "codemirror_mode": {
    "name": "ipython",
    "version": 3
   },
   "file_extension": ".py",
   "mimetype": "text/x-python",
   "name": "python",
   "nbconvert_exporter": "python",
   "pygments_lexer": "ipython3",
   "version": "3.12.6"
  }
 },
 "nbformat": 4,
 "nbformat_minor": 5
}
