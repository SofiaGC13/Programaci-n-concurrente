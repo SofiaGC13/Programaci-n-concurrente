{
 "cells": [
  {
   "cell_type": "code",
   "execution_count": 17,
   "metadata": {
    "id": "0dtuuRww-ekh"
   },
   "outputs": [],
   "source": [
    "from pyspark.sql import SparkSession\n",
    "from pyspark.sql.functions import col, lit, to_timestamp"
   ]
  },
  {
   "cell_type": "code",
   "execution_count": 18,
   "metadata": {
    "colab": {
     "base_uri": "https://localhost:8080/",
     "height": 219
    },
    "id": "X2lSnbMu90R9",
    "outputId": "54f882e3-8639-4500-8a9d-86d859e223b7"
   },
   "outputs": [
    {
     "data": {
      "text/html": [
       "\n",
       "            <div>\n",
       "                <p><b>SparkSession - in-memory</b></p>\n",
       "                \n",
       "        <div>\n",
       "            <p><b>SparkContext</b></p>\n",
       "\n",
       "            <p><a href=\"http://LAPTOP-CO4U50IG:4040\">Spark UI</a></p>\n",
       "\n",
       "            <dl>\n",
       "              <dt>Version</dt>\n",
       "                <dd><code>v3.5.3</code></dd>\n",
       "              <dt>Master</dt>\n",
       "                <dd><code>local[*]</code></dd>\n",
       "              <dt>AppName</dt>\n",
       "                <dd><code>pyspark-shell</code></dd>\n",
       "            </dl>\n",
       "        </div>\n",
       "        \n",
       "            </div>\n",
       "        "
      ],
      "text/plain": [
       "<pyspark.sql.session.SparkSession at 0x1f4233e5e20>"
      ]
     },
     "execution_count": 18,
     "metadata": {},
     "output_type": "execute_result"
    }
   ],
   "source": [
    "spark = SparkSession.builder.master(\"local[*]\").getOrCreate()\n",
    "spark"
   ]
  },
  {
   "cell_type": "code",
   "execution_count": 19,
   "metadata": {
    "colab": {
     "base_uri": "https://localhost:8080/"
    },
    "id": "QT5siaoqDq1V",
    "outputId": "82a3ae56-17d1-458c-a7e6-344735a3ca80"
   },
   "outputs": [
    {
     "name": "stdout",
     "output_type": "stream",
     "text": [
      "+-----------+----------+---------+------+-------------------+--------------------+------------+-------------------+-------------+-----------+-----+--------+\n",
      "|customer_id|first_name|last_name|gender|      date_of_birth|               email|phone_number|        signup_date|      address|       city|state|zip_code|\n",
      "+-----------+----------+---------+------+-------------------+--------------------+------------+-------------------+-------------+-----------+-----+--------+\n",
      "|          1|    Robert|    Smith|Female|1994-06-14 21:40:27|jane.davis1@mail.com|634-106-4981|2016-10-16 17:23:25| 8465 Main St|San Antonio|   CA|   35566|\n",
      "|          2|     Emily|   Garcia|Female|1989-09-21 17:56:31|robert.williams2@...|386-635-5998|2021-04-04 14:24:06|  305 Main St|   New York|   AZ|   23187|\n",
      "|          3|   Jessica|    Brown|  Male|1984-01-21 21:43:13|emily.davis3@mail...|627-341-5213|2018-04-22 04:51:57|  5725 Oak St|    Chicago|   AZ|   99188|\n",
      "|          4|   Michael|    Brown|  Male|1986-02-06 13:09:53|jessica.williams4...|126-662-8981|2018-07-06 17:45:14|  8468 Oak St|Los Angeles|   TX|   77421|\n",
      "|          5|    Robert|    Jones|  Male|1996-12-05 05:10:11|robert.martinez5@...|758-947-2802|2018-03-11 01:43:10|2820 Maple St|    Chicago|   TX|   36281|\n",
      "+-----------+----------+---------+------+-------------------+--------------------+------------+-------------------+-------------+-----------+-----+--------+\n",
      "only showing top 5 rows\n",
      "\n"
     ]
    }
   ],
   "source": [
    "customer = spark.read.csv(r\"C:\\Users\\sofia\\OneDrive\\Documentos\\7° Semestre\\Programación concurrente\\customer_profile_dataset.csv\", header=True)\n",
    "customer.show(5)"
   ]
  },
  {
   "cell_type": "code",
   "execution_count": 20,
   "metadata": {
    "colab": {
     "base_uri": "https://localhost:8080/"
    },
    "id": "e2siPRUfFWOH",
    "outputId": "f85148e2-0169-418a-9885-740707e08b81"
   },
   "outputs": [
    {
     "name": "stdout",
     "output_type": "stream",
     "text": [
      "+----------+------------+--------+--------------+------+--------------------+\n",
      "|product_id|product_name|category|price_per_unit| brand| product_description|\n",
      "+----------+------------+--------+--------------+------+--------------------+\n",
      "|         1|      Butter|   Dairy|         28.58|BrandB|Description for Rice|\n",
      "|         2|      Butter|   Meats|         22.66|BrandB|Description for B...|\n",
      "|         3|        Milk|   Meats|         26.52|BrandE|Description for B...|\n",
      "|         4|      Banana|  Grains|         26.12|BrandB|Description for A...|\n",
      "|         5|        Rice|  Fruits|         21.94|BrandD|Description for B...|\n",
      "+----------+------------+--------+--------------+------+--------------------+\n",
      "only showing top 5 rows\n",
      "\n"
     ]
    }
   ],
   "source": [
    "products = spark.read.csv(r\"C:\\Users\\sofia\\OneDrive\\Documentos\\7° Semestre\\Programación concurrente\\products_dataset.csv\", header=True)\n",
    "products.show(5)"
   ]
  },
  {
   "cell_type": "code",
   "execution_count": 21,
   "metadata": {
    "colab": {
     "base_uri": "https://localhost:8080/"
    },
    "id": "UMpzJfv5F8fz",
    "outputId": "37a75004-4d06-4beb-ed5c-e2e6eeb6a018"
   },
   "outputs": [
    {
     "name": "stdout",
     "output_type": "stream",
     "text": [
      "+-----------+-----------+----------+-------------------+--------+------------------+\n",
      "|purchase_id|customer_id|product_id|      purchase_date|quantity|      total_amount|\n",
      "+-----------+-----------+----------+-------------------+--------+------------------+\n",
      "|          1|          1|        42|2018-04-15 14:08:01|       3| 37.64207365077783|\n",
      "|          2|          1|       138|2022-07-10 23:33:47|       4| 70.24710587172727|\n",
      "|          3|          1|       403|2021-12-31 03:53:33|       3| 89.16889585975464|\n",
      "|          4|          1|       193|2017-01-14 01:25:11|       2| 59.70505931112876|\n",
      "|          5|          1|        26|2018-04-06 11:01:06|       3|101.77886387225126|\n",
      "+-----------+-----------+----------+-------------------+--------+------------------+\n",
      "only showing top 5 rows\n",
      "\n"
     ]
    }
   ],
   "source": [
    "purchase = spark.read.csv(r\"C:\\Users\\sofia\\OneDrive\\Documentos\\7° Semestre\\Programación concurrente\\purchase_history_dataset.csv\", header=True)\n",
    "purchase.show(5)"
   ]
  },
  {
   "cell_type": "markdown",
   "metadata": {
    "id": "NE8CLqxoOGip"
   },
   "source": [
    "Ejercicios; contesta desarrollando el correspondiente código en Pyspark:\n",
    "\n",
    "1. Responde, ¿cuántos clientes llamados \"Robert\" (nota cómo hay *Males* y *Females*), compraron algún producto lácteo (Dairy) en 2022 ?\n",
    "\n",
    "2. Eres empleado de *BrandB*. ¿En cuáles ciudades has vendido una mayor cantidad? (total_amount)\n",
    "\n",
    "3. ¿De cuánto es la mayor cantidad (quantity) que ha sido comprado por algún hombre O cuyo producto sea pan (Bread)?"
   ]
  },
  {
   "cell_type": "code",
   "execution_count": 24,
   "metadata": {
    "id": "P_a5y8AFOEjC"
   },
   "outputs": [
    {
     "data": {
      "text/plain": [
       "31"
      ]
     },
     "execution_count": 24,
     "metadata": {},
     "output_type": "execute_result"
    }
   ],
   "source": [
    "# Realizar un join entre las tablas `purchase`, `customer` y `products`\n",
    "join_1 = purchase.join(customer, on=\"customer_id\").join(products, on=\"product_id\")\n",
    "\n",
    "# Filtrar: clientes llamados \"Robert\", productos de categoría \"Dairy\" y compras realizadas en 2022\n",
    "resultado_1 = join_1.filter(\n",
    "                            (col(\"first_name\") == \"Robert\") &\n",
    "                            (col(\"category\") == \"Dairy\") &\n",
    "                            (purchase[\"purchase_date\"] > lit(\"2022-01-01 00:00:00\")) &\n",
    "                            (purchase[\"purchase_date\"] < lit(\"2022-12-31 23:59:59\"))\n",
    "                        ) \\\n",
    "                    .select(\"customer_id\").distinct().count()\n",
    "resultado_1"
   ]
  },
  {
   "cell_type": "code",
   "execution_count": 28,
   "metadata": {},
   "outputs": [
    {
     "name": "stdout",
     "output_type": "stream",
     "text": [
      "+------------+------------------+\n",
      "|        city| sum(total_amount)|\n",
      "+------------+------------------+\n",
      "|     Chicago|29557.642903425036|\n",
      "|     Houston| 28586.38258782695|\n",
      "|     Phoenix| 28041.96419969516|\n",
      "|Philadelphia|27492.074313737838|\n",
      "|    New York|27246.218068437967|\n",
      "| San Antonio|25221.051797835673|\n",
      "| Los Angeles|23819.529899740137|\n",
      "+------------+------------------+\n",
      "\n"
     ]
    }
   ],
   "source": [
    "# Asegurarnos de que la columna `total_amount` es numérica\n",
    "purchase = purchase.withColumn(\"total_amount\", col(\"total_amount\").cast(\"double\"))\n",
    "\n",
    "# Realizar un join entre las tablas `purchase` y `products`\n",
    "join_2 = purchase.join(products, on=\"product_id\").join(customer, on=\"customer_id\")\n",
    "\n",
    "# Filtrar productos de la marca \"BrandB\"\n",
    "resultado_2 = join_2.filter(col(\"brand\") == \"BrandB\")\\\n",
    "                    .groupBy(\"city\").sum(\"total_amount\")\\\n",
    "                    .orderBy(col(\"sum(total_amount)\").desc())\\\n",
    "\n",
    "# Mostrar las ciudades con mayor cantidad vendida\n",
    "resultado_2.show()"
   ]
  },
  {
   "cell_type": "code",
   "execution_count": 29,
   "metadata": {},
   "outputs": [
    {
     "data": {
      "text/plain": [
       "'5'"
      ]
     },
     "execution_count": 29,
     "metadata": {},
     "output_type": "execute_result"
    }
   ],
   "source": [
    "# Realizar el join entre las tablas purchase, customer y products\n",
    "join_3 = purchase.join(customer, on=\"customer_id\").join(products, on=\"product_id\")\n",
    "\n",
    "# Filtrar: compras realizadas por hombres O productos con nombre \"Bread\"\n",
    "resultado_3 = join_3.filter((col(\"gender\") == \"Male\") | \n",
    "                            (col(\"product_name\") == \"Bread\"))\\\n",
    "                    .agg({\"quantity\": \"max\"}).collect()[0][0]\n",
    "resultado_3"
   ]
  }
 ],
 "metadata": {
  "colab": {
   "include_colab_link": true,
   "provenance": []
  },
  "kernelspec": {
   "display_name": "Python 3",
   "name": "python3"
  },
  "language_info": {
   "codemirror_mode": {
    "name": "ipython",
    "version": 3
   },
   "file_extension": ".py",
   "mimetype": "text/x-python",
   "name": "python",
   "nbconvert_exporter": "python",
   "pygments_lexer": "ipython3",
   "version": "3.12.7"
  }
 },
 "nbformat": 4,
 "nbformat_minor": 0
}
