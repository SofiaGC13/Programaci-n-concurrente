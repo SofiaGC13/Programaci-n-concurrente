{
 "cells": [
  {
   "cell_type": "code",
   "execution_count": 11,
   "metadata": {},
   "outputs": [],
   "source": [
    "# Importación de la librería necesaria\n",
    "from pyspark.sql import SparkSession\n",
    "from pyspark.sql.functions import lit"
   ]
  },
  {
   "cell_type": "code",
   "execution_count": 12,
   "metadata": {},
   "outputs": [
    {
     "name": "stdout",
     "output_type": "stream",
     "text": [
      "+-----------+-----------+-------------+-------------+--------------+------+-----+------------------+-------------------+------------------+--------------------+---------+------------------+------+\n",
      "|ID_REGISTRO|ENTIDAD_RES|MUNICIPIO_RES|FECHA_INGRESO|FECHA_SINTOMAS|covidt|delta|               lat|               long|               alt|                 qry|dayofyear|       lengthofday|  PAIS|\n",
      "+-----------+-----------+-------------+-------------+--------------+------+-----+------------------+-------------------+------------------+--------------------+---------+------------------+------+\n",
      "|     z526b3|          9|           12|   2020-12-21|    2020-12-18|     1|    3| 19.20155345588235| -99.20180252450989|3008.9460784313724|Cve_Ent==9 & Cve_...|      356|11.768371962176587|Mexico|\n",
      "|     z3d1e2|          9|            5|   2020-04-22|    2020-04-20|     1|    2|         19.482945|         -99.113471|            2229.0|Cve_Ent==9 & Cve_...|      113|13.441805501598786|Mexico|\n",
      "|     z21f6f|          7|            9|   2020-04-27|    2020-04-24|     1|    3| 16.21599257359306| -93.93758461688306| 83.17316017316017|Cve_Ent==7 & Cve_...|      118|13.399116765412083|Mexico|\n",
      "|     zz9040|         19|           45|   2020-09-06|    2020-09-03|     1|    3| 26.06980561012655|-100.27776220506335| 486.4253164556962|Cve_Ent==19 & Cve...|      250|13.288478608721755|Mexico|\n",
      "|     z21c58|         19|           26|   2020-07-10|    2020-07-06|     1|    4|25.679631916666665|-100.16954308333334|            551.75|Cve_Ent==19 & Cve...|      192|14.507914985048014|Mexico|\n",
      "+-----------+-----------+-------------+-------------+--------------+------+-----+------------------+-------------------+------------------+--------------------+---------+------------------+------+\n",
      "only showing top 5 rows\n",
      "\n"
     ]
    }
   ],
   "source": [
    "# Creación de la SparkSession\n",
    "spark = SparkSession.builder.master(\"local[*]\").getOrCreate()\n",
    "df = spark.read.csv(r\"C:\\Users\\sofia\\OneDrive\\Documentos\\7° Semestre\\Programación concurrente\\covidmex.csv\\covidmex.csv\", header=True)\n",
    "\n",
    "# Paso 1: Agregar una columna \"PAIS\" con el valor \"Mexico\" para todas las filas\n",
    "df = df.withColumn(\"PAIS\", lit(\"Mexico\"))\n",
    "df.show(5)"
   ]
  },
  {
   "cell_type": "code",
   "execution_count": 13,
   "metadata": {},
   "outputs": [
    {
     "name": "stdout",
     "output_type": "stream",
     "text": [
      "+-----------+-----------+-------------+-------------+--------------+------+-----+------------------+-------------------+------------------+--------------------+---------+------+\n",
      "|ID_REGISTRO|ENTIDAD_RES|MUNICIPIO_RES|FECHA_INGRESO|FECHA_SINTOMAS|covidt|delta|               lat|               long|               alt|                 qry|dayofyear|  PAIS|\n",
      "+-----------+-----------+-------------+-------------+--------------+------+-----+------------------+-------------------+------------------+--------------------+---------+------+\n",
      "|     z526b3|          9|           12|   2020-12-21|    2020-12-18|     1|    3| 19.20155345588235| -99.20180252450989|3008.9460784313724|Cve_Ent==9 & Cve_...|      356|Mexico|\n",
      "|     z3d1e2|          9|            5|   2020-04-22|    2020-04-20|     1|    2|         19.482945|         -99.113471|            2229.0|Cve_Ent==9 & Cve_...|      113|Mexico|\n",
      "|     z21f6f|          7|            9|   2020-04-27|    2020-04-24|     1|    3| 16.21599257359306| -93.93758461688306| 83.17316017316017|Cve_Ent==7 & Cve_...|      118|Mexico|\n",
      "|     zz9040|         19|           45|   2020-09-06|    2020-09-03|     1|    3| 26.06980561012655|-100.27776220506335| 486.4253164556962|Cve_Ent==19 & Cve...|      250|Mexico|\n",
      "|     z21c58|         19|           26|   2020-07-10|    2020-07-06|     1|    4|25.679631916666665|-100.16954308333334|            551.75|Cve_Ent==19 & Cve...|      192|Mexico|\n",
      "+-----------+-----------+-------------+-------------+--------------+------+-----+------------------+-------------------+------------------+--------------------+---------+------+\n",
      "only showing top 5 rows\n",
      "\n"
     ]
    }
   ],
   "source": [
    "# Paso 2: Eliminar la columna \"lengthofday\" del DataFrame\n",
    "df = df.drop(\"lengthofday\")\n",
    "df.show(5)"
   ]
  },
  {
   "cell_type": "code",
   "execution_count": 14,
   "metadata": {},
   "outputs": [
    {
     "name": "stdout",
     "output_type": "stream",
     "text": [
      "+------------------+-------------------+-----------+------+\n",
      "|               lat|               long|ENTIDAD_RES|  PAIS|\n",
      "+------------------+-------------------+-----------+------+\n",
      "| 19.20155345588235| -99.20180252450989|          9|Mexico|\n",
      "|         19.482945|         -99.113471|          9|Mexico|\n",
      "| 16.21599257359306| -93.93758461688306|          7|Mexico|\n",
      "| 26.06980561012655|-100.27776220506335|         19|Mexico|\n",
      "|25.679631916666665|-100.16954308333334|         19|Mexico|\n",
      "+------------------+-------------------+-----------+------+\n",
      "only showing top 5 rows\n",
      "\n"
     ]
    }
   ],
   "source": [
    "# Paso 3: Crear un nuevo DataFrame `ubicacion` con solo las columnas \"lat\", \"long\", \"ENTIDAD_RES\", y \"PAIS\"\n",
    "ubicacion = df.select(\"lat\", \"long\", \"ENTIDAD_RES\", \"PAIS\")\n",
    "ubicacion.show(5)"
   ]
  },
  {
   "cell_type": "code",
   "execution_count": 15,
   "metadata": {},
   "outputs": [
    {
     "name": "stdout",
     "output_type": "stream",
     "text": [
      "+-----------------+------------------+-----------+------+\n",
      "|              lat|              long|ENTIDAD_RES|  PAIS|\n",
      "+-----------------+------------------+-----------+------+\n",
      "|19.20155345588235|-99.20180252450989|          9|Mexico|\n",
      "|        19.482945|        -99.113471|          9|Mexico|\n",
      "|        19.359004|        -99.092623|          9|Mexico|\n",
      "|        19.395901|        -99.097613|          9|Mexico|\n",
      "|19.20155345588235|-99.20180252450989|          9|Mexico|\n",
      "+-----------------+------------------+-----------+------+\n",
      "only showing top 5 rows\n",
      "\n"
     ]
    }
   ],
   "source": [
    "# Paso 4: Filtrar `ubicacion` donde \"ENTIDAD_RES\" es 9 (Ciudad de México) y guardar el resultado en `cdmx`\n",
    "cdmx = ubicacion.filter(ubicacion.ENTIDAD_RES == \"9\")\n",
    "cdmx.show(5)"
   ]
  },
  {
   "cell_type": "code",
   "execution_count": 16,
   "metadata": {},
   "outputs": [
    {
     "data": {
      "text/html": [
       "<div>\n",
       "<style scoped>\n",
       "    .dataframe tbody tr th:only-of-type {\n",
       "        vertical-align: middle;\n",
       "    }\n",
       "\n",
       "    .dataframe tbody tr th {\n",
       "        vertical-align: top;\n",
       "    }\n",
       "\n",
       "    .dataframe thead th {\n",
       "        text-align: right;\n",
       "    }\n",
       "</style>\n",
       "<table border=\"1\" class=\"dataframe\">\n",
       "  <thead>\n",
       "    <tr style=\"text-align: right;\">\n",
       "      <th></th>\n",
       "      <th>lat</th>\n",
       "      <th>long</th>\n",
       "      <th>ENTIDAD_RES</th>\n",
       "      <th>PAIS</th>\n",
       "    </tr>\n",
       "  </thead>\n",
       "  <tbody>\n",
       "    <tr>\n",
       "      <th>0</th>\n",
       "      <td>19.20155345588235</td>\n",
       "      <td>-99.20180252450989</td>\n",
       "      <td>9</td>\n",
       "      <td>Mexico</td>\n",
       "    </tr>\n",
       "    <tr>\n",
       "      <th>1</th>\n",
       "      <td>19.482945</td>\n",
       "      <td>-99.113471</td>\n",
       "      <td>9</td>\n",
       "      <td>Mexico</td>\n",
       "    </tr>\n",
       "    <tr>\n",
       "      <th>2</th>\n",
       "      <td>19.359004</td>\n",
       "      <td>-99.092623</td>\n",
       "      <td>9</td>\n",
       "      <td>Mexico</td>\n",
       "    </tr>\n",
       "    <tr>\n",
       "      <th>3</th>\n",
       "      <td>19.395901</td>\n",
       "      <td>-99.097613</td>\n",
       "      <td>9</td>\n",
       "      <td>Mexico</td>\n",
       "    </tr>\n",
       "    <tr>\n",
       "      <th>4</th>\n",
       "      <td>19.20155345588235</td>\n",
       "      <td>-99.20180252450989</td>\n",
       "      <td>9</td>\n",
       "      <td>Mexico</td>\n",
       "    </tr>\n",
       "  </tbody>\n",
       "</table>\n",
       "</div>"
      ],
      "text/plain": [
       "                 lat                long ENTIDAD_RES    PAIS\n",
       "0  19.20155345588235  -99.20180252450989           9  Mexico\n",
       "1          19.482945          -99.113471           9  Mexico\n",
       "2          19.359004          -99.092623           9  Mexico\n",
       "3          19.395901          -99.097613           9  Mexico\n",
       "4  19.20155345588235  -99.20180252450989           9  Mexico"
      ]
     },
     "execution_count": 16,
     "metadata": {},
     "output_type": "execute_result"
    }
   ],
   "source": [
    "# Paso 5: Seleccionar los primeros 5 valores de `cdmx` y guardarlos como un DataFrame de Pandas llamado `df_pandas`\n",
    "df_pandas = cdmx.limit(5).toPandas()\n",
    "df_pandas"
   ]
  }
 ],
 "metadata": {
  "kernelspec": {
   "display_name": "Python 3",
   "language": "python",
   "name": "python3"
  },
  "language_info": {
   "codemirror_mode": {
    "name": "ipython",
    "version": 3
   },
   "file_extension": ".py",
   "mimetype": "text/x-python",
   "name": "python",
   "nbconvert_exporter": "python",
   "pygments_lexer": "ipython3",
   "version": "3.12.7"
  }
 },
 "nbformat": 4,
 "nbformat_minor": 2
}
