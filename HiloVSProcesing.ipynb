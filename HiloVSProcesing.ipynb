{
 "cells": [
  {
   "cell_type": "markdown",
   "metadata": {},
   "source": [
    "# Multihilos vs Multiprocesos\n"
   ]
  },
  {
   "cell_type": "code",
   "execution_count": 13,
   "metadata": {},
   "outputs": [],
   "source": [
    "import time\n",
    "import threading\n",
    "import multiprocessing"
   ]
  },
  {
   "cell_type": "markdown",
   "metadata": {},
   "source": [
    "El problema que estoy ejecutando es la verificacion de números primos en un rango de números"
   ]
  },
  {
   "cell_type": "code",
   "execution_count": 14,
   "metadata": {},
   "outputs": [],
   "source": [
    "# Función para verificar si un número es primo\n",
    "def es_primo(n):\n",
    "    if n < 2:\n",
    "        return False\n",
    "    for i in range(2, int(n**0.5) + 1):\n",
    "        if n % i == 0:\n",
    "            return False\n",
    "    return True"
   ]
  },
  {
   "cell_type": "markdown",
   "metadata": {},
   "source": [
    "## Secuencial"
   ]
  },
  {
   "cell_type": "code",
   "execution_count": 15,
   "metadata": {},
   "outputs": [
    {
     "name": "stdout",
     "output_type": "stream",
     "text": [
      "Tiempo Secuencial: 2.8253750801086426 segundos\n"
     ]
    }
   ],
   "source": [
    "# Función que encuentra todos los primos hasta n\n",
    "def encontrar_primos(n):\n",
    "    primos = []\n",
    "    for i in range(n):\n",
    "        if es_primo(i):\n",
    "            primos.append(i)\n",
    "    return primos\n",
    "\n",
    "# Definimos el rango máximo (número grande para notar la diferencia en el tiempo)\n",
    "n = 10**6\n",
    "\n",
    "inicio_secuencial = time.time()\n",
    "primos_secuencial = encontrar_primos(n)\n",
    "fin_secuencial = time.time()\n",
    "\n",
    "tiempo_secuencial = fin_secuencial - inicio_secuencial\n",
    "\n",
    "print(f\"Tiempo Secuencial: {tiempo_secuencial} segundos\")"
   ]
  },
  {
   "cell_type": "markdown",
   "metadata": {},
   "source": [
    "## Multihilos"
   ]
  },
  {
   "cell_type": "code",
   "execution_count": 16,
   "metadata": {},
   "outputs": [
    {
     "name": "stdout",
     "output_type": "stream",
     "text": [
      "Tiempo con Multi-Hilos: 2.7521591186523438 segundos\n"
     ]
    }
   ],
   "source": [
    "# Función que encuentra los primos en un rango específico\n",
    "def encontrar_primos_hilos(rango, primos_parciales, idx):\n",
    "    primos_parciales[idx] = [i for i in rango if es_primo(i)]\n",
    "\n",
    "# Número de hilos\n",
    "num_hilos = 6\n",
    "tamaño_bloque = n // num_hilos\n",
    "\n",
    "# Almacenamos los resultados de cada hilo\n",
    "primos_parciales_hilos = [[] for _ in range(num_hilos)]\n",
    "\n",
    "# Creamos los hilos\n",
    "hilos = []\n",
    "inicio_hilos = time.time()\n",
    "for i in range(num_hilos):\n",
    "    inicio = i * tamaño_bloque\n",
    "    fin = (i + 1) * tamaño_bloque\n",
    "    hilo = threading.Thread(target=encontrar_primos_hilos, args=(range(inicio, fin), primos_parciales_hilos, i))\n",
    "    hilos.append(hilo)\n",
    "    hilo.start()\n",
    "\n",
    "# Esperamos a que terminen todos los hilos\n",
    "for hilo in hilos:\n",
    "    hilo.join()\n",
    "\n",
    "# Juntamos los resultados de todos los hilos\n",
    "primos_total_hilos = sum(primos_parciales_hilos, [])\n",
    "fin_hilos = time.time()\n",
    "\n",
    "tiempo_hilo = fin_hilos - inicio_hilos\n",
    "\n",
    "print(f\"Tiempo con Multi-Hilos: {tiempo_hilo} segundos\")"
   ]
  },
  {
   "cell_type": "markdown",
   "metadata": {},
   "source": [
    "## Multiprocesos"
   ]
  },
  {
   "cell_type": "code",
   "execution_count": 17,
   "metadata": {},
   "outputs": [
    {
     "name": "stdout",
     "output_type": "stream",
     "text": [
      "Tiempo total con Multi-Procesos: 0.1845560073852539 segundos\n"
     ]
    }
   ],
   "source": [
    "# Función que encuentra primos en un rango específico\n",
    "def encontrar_primos_rango(rango):\n",
    "    primos = [i for i in rango if es_primo(i)]\n",
    "    print(f\"Proceso: {multiprocessing.current_process().name}, Primos encontrados: {len(primos)}\")\n",
    "\n",
    "# Número de procesos\n",
    "num_procesos = 4\n",
    "tamaño_bloque = n // num_procesos\n",
    "\n",
    "# Creamos los procesos\n",
    "procesos = []\n",
    "inicio_procesos = time.time()\n",
    "\n",
    "for i in range(num_procesos):\n",
    "    inicio = i * tamaño_bloque\n",
    "    fin = (i + 1) * tamaño_bloque\n",
    "    proceso = multiprocessing.Process(target=encontrar_primos_rango, args=(range(inicio, fin),))\n",
    "    procesos.append(proceso)\n",
    "    proceso.start()\n",
    "\n",
    "# Esperamos a que todos los procesos terminen\n",
    "for proceso in procesos:\n",
    "    proceso.join()\n",
    "\n",
    "fin_procesos = time.time()\n",
    "tiempo_procesos = fin_procesos - inicio_procesos\n",
    "\n",
    "print(f\"Tiempo total con Multi-Procesos: {tiempo_procesos} segundos\")"
   ]
  },
  {
   "cell_type": "markdown",
   "metadata": {},
   "source": [
    "## Comparaciones"
   ]
  },
  {
   "cell_type": "code",
   "execution_count": 18,
   "metadata": {},
   "outputs": [
    {
     "data": {
      "image/png": "[encoded data removed]",
      "text/plain": [
       "<Figure size 800x600 with 1 Axes>"
      ]
     },
     "metadata": {},
     "output_type": "display_data"
    }
   ],
   "source": [
    "import matplotlib.pyplot as plt\n",
    "\n",
    "# Datos de los tiempos\n",
    "enfoques = ['Secuencial', 'Multi-Hilos', 'Multi-Procesos']\n",
    "tiempos = [tiempo_secuencial, tiempo_hilo, tiempo_procesos]\n",
    "\n",
    "# Crear gráfico de barras\n",
    "plt.figure(figsize=(8, 6))\n",
    "plt.bar(enfoques, tiempos, color=['blue', 'purple', 'orange'])\n",
    "plt.title('Tiempos de Ejecución por Enfoque')\n",
    "plt.xlabel('Enfoque')\n",
    "plt.ylabel('Tiempo (segundos)')\n",
    "plt.ylim(0, max(tiempos) + 0.5)\n",
    "\n",
    "# Mostrar gráfico\n",
    "plt.show()\n"
   ]
  },
  {
   "cell_type": "markdown",
   "metadata": {},
   "source": [
    "## Conclusiones"
   ]
  },
  {
   "cell_type": "markdown",
   "metadata": {},
   "source": [
    "Secuencial: Este es el enfoque más lento. Procesa todo de manera individual, sin dividir el trabajo ni aprovechar más de un núcleo de la CPU. Cada número es evaluado de manera lineal, lo que hace que el tiempo de ejecución sea más largo de lo que podría ser. Es sencillo deejecutar pero con grandes cantidades de datos, no es la opción más eficiente.\n",
    "\n",
    "Multihilos: Este en enfoque en teoría, debería dividir la tarea en partes más pequeñas (con hilos), permitiendo que trabajen de manera concurrente, es decir, que los hilos hagan simultáneamente diferentes partes de la tarea, pero en Python, debido al Global Interpreter Lock (GIL), no pueden ejecutarse en diferentes núcleos para tareas que requieren mucho procesamiento, así que, aunque la concurrencia está ahí, no se traduce en un gran ahorro de tiempo, ya que al final solo un hilo puede estar ejecutando código Python a la vez. En la práctica, los hilos terminan siendo casi igual de lentos que la versión secuencial, con una mejora apenas perceptible.\n",
    "\n",
    "Multiprocesos: Aquí es donde las cosas realmente mejoran. El enfoque de multi-procesos no está limitado por el GIL, lo que significa que puede usar múltiples núcleos de la CPU al mismo tiempo, donde cada proceso corre de manera independiente y en paralelo, dividiendo la tarea entre los núcleos disponibles. Esto hace que el tiempo de ejecución sea muchísimo más corto en comparación con los otros enfoques. Es la opción ganadora para este tipo de problemas intensivos en CPU, por lo menos en mi entorno de trabajo."
   ]
  },
  {
   "cell_type": "markdown",
   "metadata": {},
   "source": [
    "Por lo tanto, el secuencial es el más lento porque trabaja de forma lineal, sin aprovechar todos los recursos disponibles, multihilos aunque trabajan de manera concurrente, en Python están limitados por el GIL, lo que significa que no pueden ejecutarse en paralelo en múltiples núcleos y dar el poder de procesamiento necesaario a cada hilo, por lo que terminan siendo casi tan lentos como el enfoque secuencial y el enfoque multiprocesos es donde  cada proceso corre en un núcleo diferente de la CPU, lo que lo convierte en el enfoque más rápido con diferencia.\n",
    "\n",
    "En resumen, multiprocesos es la mejor opción en Python, ya que logra aprovechar todos los núcleos y reduce significativamente el tiempo de ejecución."
   ]
  }
 ],
 "metadata": {
  "kernelspec": {
   "display_name": "Python 3",
   "language": "python",
   "name": "python3"
  },
  "language_info": {
   "codemirror_mode": {
    "name": "ipython",
    "version": 3
   },
   "file_extension": ".py",
   "mimetype": "text/x-python",
   "name": "python",
   "nbconvert_exporter": "python",
   "pygments_lexer": "ipython3",
   "version": "3.12.7"
  }
 },
 "nbformat": 4,
 "nbformat_minor": 2
}
